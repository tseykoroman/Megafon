{
 "cells": [
  {
   "cell_type": "markdown",
   "id": "d3d87c72",
   "metadata": {},
   "source": [
    "## МЕГАФОН - курсовой проект - часть 2\n",
    "файл, в котором производится загрузка модели, тестовых данных и датасет с признаками. на выходе получается файл. answers_test.csv. В этом файле находится 4 столбца: buy_time, id, vas_id и target. "
   ]
  },
  {
   "cell_type": "code",
   "execution_count": 2,
   "id": "2f58c7d1",
   "metadata": {},
   "outputs": [],
   "source": [
    "import time\n",
    "start_time = time.time()"
   ]
  },
  {
   "cell_type": "code",
   "execution_count": 3,
   "id": "710d47cd",
   "metadata": {},
   "outputs": [],
   "source": [
    "# библиотеки\n",
    "import pandas as pd\n",
    "import numpy as np\n",
    "import dask.dataframe as dd\n",
    "from datetime import date\n",
    "import pickle \n",
    "\n",
    "# разделение данных\n",
    "from sklearn.model_selection import train_test_split\n",
    "\n",
    "# графики\n",
    "import seaborn as sns\n",
    "from scipy.stats import boxcox, probplot\n",
    "import matplotlib.pyplot as plt\n",
    "%matplotlib inline\n",
    "\n",
    "# метрики\n",
    "from sklearn.metrics import confusion_matrix, accuracy_score, classification_report\n",
    "from sklearn.metrics import roc_auc_score, roc_curve, precision_recall_curve\n",
    "from sklearn.metrics import f1_score\n",
    "from sklearn.metrics import mean_squared_error\n",
    "\n",
    "# Модели\n",
    "from sklearn.tree import DecisionTreeClassifier\n",
    "from sklearn.ensemble import RandomForestRegressor\n",
    "from sklearn.ensemble import RandomForestClassifier\n",
    "import xgboost as xgb\n",
    "import catboost as catb\n",
    "from sklearn.ensemble import GradientBoostingClassifier\n",
    "from sklearn.linear_model import LinearRegression, Lasso, Ridge, LassoCV, RidgeCV\n",
    "from sklearn.preprocessing import StandardScaler\n",
    "from sklearn.linear_model import LogisticRegression\n",
    "from sklearn.model_selection import GridSearchCV\n",
    "from sklearn.model_selection import KFold\n",
    "from sklearn.model_selection import cross_validate\n",
    "\n",
    "# балансировка классов\n",
    "from imblearn.under_sampling import RandomUnderSampler\n",
    "\n",
    "# пайппланы\n",
    "from sklearn.pipeline import FeatureUnion, make_pipeline\n",
    "from sklearn.base import BaseEstimator, TransformerMixin\n",
    "from sklearn.preprocessing import StandardScaler, OneHotEncoder\n",
    "from sklearn.impute import SimpleImputer"
   ]
  },
  {
   "cell_type": "code",
   "execution_count": 4,
   "id": "3263c710",
   "metadata": {},
   "outputs": [],
   "source": [
    "# укажем путь нахождения данных\n",
    "FEATURES_PATH = 'F:/Megafon/features/features.csv'\n",
    "users_data_df_PATH = 'F:/Megafon/data_test.csv'"
   ]
  },
  {
   "cell_type": "code",
   "execution_count": 5,
   "id": "3ae1aaff",
   "metadata": {},
   "outputs": [],
   "source": [
    "# загрузм признаки\n",
    "test_df = pd.read_csv(users_data_df_PATH)\n",
    "features_ddf = dd.read_csv(FEATURES_PATH, sep=\"\\t\")\n",
    "features_ddf = features_ddf.drop('Unnamed: 0', axis=1)"
   ]
  },
  {
   "cell_type": "code",
   "execution_count": 6,
   "id": "b4335a1f",
   "metadata": {},
   "outputs": [],
   "source": [
    "test_df['date'] = pd.to_datetime(test_df['buy_time'], errors =\"coerce\")\n",
    "test_df.astype(\"int64\").dtypes\n",
    "test_df['week_on_month'] = test_df['date'].dt.week\n",
    "test_df['day'] = test_df['date'].dt.day\n",
    "test_df['month'] = test_df['date'].dt.month"
   ]
  },
  {
   "cell_type": "code",
   "execution_count": 7,
   "id": "ea73be26",
   "metadata": {},
   "outputs": [],
   "source": [
    "features_pd = features_ddf.compute()"
   ]
  },
  {
   "cell_type": "code",
   "execution_count": 8,
   "id": "fbf03703",
   "metadata": {},
   "outputs": [],
   "source": [
    "# сортировка данных перед объединением тренировочного датасета и датасета с признаками\n",
    "features_pd = features_pd.sort_values(by = ['id','buy_time'], ascending = [True,True])"
   ]
  },
  {
   "cell_type": "code",
   "execution_count": 9,
   "id": "8fcba85e",
   "metadata": {},
   "outputs": [],
   "source": [
    "test_df = test_df.sort_values(by = ['id','buy_time'], ascending = [True,True])"
   ]
  },
  {
   "cell_type": "code",
   "execution_count": 10,
   "id": "b82e0286",
   "metadata": {},
   "outputs": [],
   "source": [
    "# объединение\n",
    "result = pd.merge_asof(test_df , features_pd, on=\"id\", by=\"buy_time\", direction=\"nearest\")"
   ]
  },
  {
   "cell_type": "code",
   "execution_count": 11,
   "id": "28cf39c7",
   "metadata": {},
   "outputs": [],
   "source": [
    "#удалим строки с пропусками\n",
    "result = result[result.vas_id.notnull()]"
   ]
  },
  {
   "cell_type": "code",
   "execution_count": 12,
   "id": "6505ffa0",
   "metadata": {},
   "outputs": [],
   "source": [
    "# уберем признаки, связанные с датой и временем, и с id\n",
    "result = result.drop(['id','date','buy_time'], axis=1)"
   ]
  },
  {
   "cell_type": "code",
   "execution_count": 13,
   "id": "8450e352",
   "metadata": {},
   "outputs": [],
   "source": [
    "class ColumnSelector(BaseEstimator, TransformerMixin):\n",
    "    def __init__(self, columns):\n",
    "        self.columns = columns\n",
    "\n",
    "    def fit(self, X, y=None):\n",
    "        return self\n",
    "    \n",
    "    def transform(self, X):\n",
    "        assert isinstance(X, pd.DataFrame)\n",
    "\n",
    "        try:\n",
    "            return X[self.columns]\n",
    "        except KeyError:\n",
    "            cols_error = list(set(self.columns) - set(X.columns))\n",
    "            raise KeyError(\"DataFrame не содердит следующие колонки: %s\" % cols_error)\n",
    "            \n",
    "class NumberSelector(BaseEstimator, TransformerMixin):    \n",
    "    def __init__(self, key):\n",
    "        self.key = key        \n",
    "\n",
    "    def fit(self, X, y=None):        \n",
    "        return self\n",
    "\n",
    "    def transform(self, X):        \n",
    "        return X[[self.key]]"
   ]
  },
  {
   "cell_type": "code",
   "execution_count": 14,
   "id": "40dd7a34",
   "metadata": {},
   "outputs": [],
   "source": [
    "MODEL_FILE_PATH = './model.pkl'"
   ]
  },
  {
   "cell_type": "code",
   "execution_count": 15,
   "id": "98a54ce3",
   "metadata": {},
   "outputs": [],
   "source": [
    "with open(MODEL_FILE_PATH, 'rb') as file:\n",
    "    my_model = pickle.load(file)"
   ]
  },
  {
   "cell_type": "code",
   "execution_count": 16,
   "id": "b39258dc",
   "metadata": {},
   "outputs": [],
   "source": [
    "f_ok = my_model[0][0].columns"
   ]
  },
  {
   "cell_type": "code",
   "execution_count": 17,
   "id": "b2fafa56",
   "metadata": {},
   "outputs": [],
   "source": [
    "result = result[f_ok]"
   ]
  },
  {
   "cell_type": "code",
   "execution_count": 18,
   "id": "706ef4f8",
   "metadata": {},
   "outputs": [
    {
     "data": {
      "text/plain": [
       "array([0.01695848, 0.8066052 , 0.01716046, ..., 0.0201329 , 0.015119  ,\n",
       "       0.02220865], dtype=float32)"
      ]
     },
     "execution_count": 18,
     "metadata": {},
     "output_type": "execute_result"
    }
   ],
   "source": [
    "y_predict_proba = my_model.predict_proba(result)[:, 1]\n",
    "y_predict_proba"
   ]
  },
  {
   "cell_type": "code",
   "execution_count": 19,
   "id": "38724c56",
   "metadata": {},
   "outputs": [],
   "source": [
    "answers_test = test_df\n",
    "answers_test['target']=y_predict_proba"
   ]
  },
  {
   "cell_type": "code",
   "execution_count": 20,
   "id": "91ae7cf0",
   "metadata": {},
   "outputs": [
    {
     "data": {
      "text/plain": [
       "(71231, 9)"
      ]
     },
     "execution_count": 20,
     "metadata": {},
     "output_type": "execute_result"
    }
   ],
   "source": [
    "answers_test.shape"
   ]
  },
  {
   "cell_type": "code",
   "execution_count": 21,
   "id": "de85b30f",
   "metadata": {},
   "outputs": [
    {
     "data": {
      "text/html": [
       "<div>\n",
       "<style scoped>\n",
       "    .dataframe tbody tr th:only-of-type {\n",
       "        vertical-align: middle;\n",
       "    }\n",
       "\n",
       "    .dataframe tbody tr th {\n",
       "        vertical-align: top;\n",
       "    }\n",
       "\n",
       "    .dataframe thead th {\n",
       "        text-align: right;\n",
       "    }\n",
       "</style>\n",
       "<table border=\"1\" class=\"dataframe\">\n",
       "  <thead>\n",
       "    <tr style=\"text-align: right;\">\n",
       "      <th></th>\n",
       "      <th>id</th>\n",
       "      <th>vas_id</th>\n",
       "      <th>buy_time</th>\n",
       "      <th>target</th>\n",
       "    </tr>\n",
       "  </thead>\n",
       "  <tbody>\n",
       "    <tr>\n",
       "      <th>87</th>\n",
       "      <td>55</td>\n",
       "      <td>2.0</td>\n",
       "      <td>1547413200</td>\n",
       "      <td>0.016958</td>\n",
       "    </tr>\n",
       "    <tr>\n",
       "      <th>98</th>\n",
       "      <td>64</td>\n",
       "      <td>4.0</td>\n",
       "      <td>1548018000</td>\n",
       "      <td>0.806605</td>\n",
       "    </tr>\n",
       "    <tr>\n",
       "      <th>278</th>\n",
       "      <td>151</td>\n",
       "      <td>2.0</td>\n",
       "      <td>1547413200</td>\n",
       "      <td>0.017160</td>\n",
       "    </tr>\n",
       "    <tr>\n",
       "      <th>551</th>\n",
       "      <td>274</td>\n",
       "      <td>2.0</td>\n",
       "      <td>1547413200</td>\n",
       "      <td>0.019500</td>\n",
       "    </tr>\n",
       "    <tr>\n",
       "      <th>552</th>\n",
       "      <td>274</td>\n",
       "      <td>4.0</td>\n",
       "      <td>1548018000</td>\n",
       "      <td>0.830441</td>\n",
       "    </tr>\n",
       "    <tr>\n",
       "      <th>...</th>\n",
       "      <td>...</td>\n",
       "      <td>...</td>\n",
       "      <td>...</td>\n",
       "      <td>...</td>\n",
       "    </tr>\n",
       "    <tr>\n",
       "      <th>69747</th>\n",
       "      <td>4362676</td>\n",
       "      <td>2.0</td>\n",
       "      <td>1548018000</td>\n",
       "      <td>0.020617</td>\n",
       "    </tr>\n",
       "    <tr>\n",
       "      <th>69754</th>\n",
       "      <td>4362677</td>\n",
       "      <td>2.0</td>\n",
       "      <td>1547413200</td>\n",
       "      <td>0.019414</td>\n",
       "    </tr>\n",
       "    <tr>\n",
       "      <th>70157</th>\n",
       "      <td>4362697</td>\n",
       "      <td>5.0</td>\n",
       "      <td>1546808400</td>\n",
       "      <td>0.020133</td>\n",
       "    </tr>\n",
       "    <tr>\n",
       "      <th>70535</th>\n",
       "      <td>4362712</td>\n",
       "      <td>5.0</td>\n",
       "      <td>1547413200</td>\n",
       "      <td>0.015119</td>\n",
       "    </tr>\n",
       "    <tr>\n",
       "      <th>70715</th>\n",
       "      <td>4362720</td>\n",
       "      <td>2.0</td>\n",
       "      <td>1546808400</td>\n",
       "      <td>0.022209</td>\n",
       "    </tr>\n",
       "  </tbody>\n",
       "</table>\n",
       "<p>71231 rows × 4 columns</p>\n",
       "</div>"
      ],
      "text/plain": [
       "            id  vas_id    buy_time    target\n",
       "87          55     2.0  1547413200  0.016958\n",
       "98          64     4.0  1548018000  0.806605\n",
       "278        151     2.0  1547413200  0.017160\n",
       "551        274     2.0  1547413200  0.019500\n",
       "552        274     4.0  1548018000  0.830441\n",
       "...        ...     ...         ...       ...\n",
       "69747  4362676     2.0  1548018000  0.020617\n",
       "69754  4362677     2.0  1547413200  0.019414\n",
       "70157  4362697     5.0  1546808400  0.020133\n",
       "70535  4362712     5.0  1547413200  0.015119\n",
       "70715  4362720     2.0  1546808400  0.022209\n",
       "\n",
       "[71231 rows x 4 columns]"
      ]
     },
     "execution_count": 21,
     "metadata": {},
     "output_type": "execute_result"
    }
   ],
   "source": [
    "col = ['id', 'vas_id', 'buy_time', 'target']\n",
    "answers_test = answers_test[col]\n",
    "answers_test"
   ]
  },
  {
   "cell_type": "code",
   "execution_count": 22,
   "id": "b758193d",
   "metadata": {},
   "outputs": [],
   "source": [
    "answers_test.to_csv('./answer_test.csv')"
   ]
  },
  {
   "cell_type": "code",
   "execution_count": 23,
   "id": "850a0900",
   "metadata": {},
   "outputs": [
    {
     "name": "stdout",
     "output_type": "stream",
     "text": [
      "--- 604.0477526187897 seconds ---\n"
     ]
    }
   ],
   "source": [
    "print(\"--- %s seconds ---\" % (time.time() - start_time))"
   ]
  }
 ],
 "metadata": {
  "kernelspec": {
   "display_name": "Python 3 (ipykernel)",
   "language": "python",
   "name": "python3"
  },
  "language_info": {
   "codemirror_mode": {
    "name": "ipython",
    "version": 3
   },
   "file_extension": ".py",
   "mimetype": "text/x-python",
   "name": "python",
   "nbconvert_exporter": "python",
   "pygments_lexer": "ipython3",
   "version": "3.7.0"
  }
 },
 "nbformat": 4,
 "nbformat_minor": 5
}
